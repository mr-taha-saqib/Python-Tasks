{
  "nbformat": 4,
  "nbformat_minor": 0,
  "metadata": {
    "colab": {
      "provenance": []
    },
    "kernelspec": {
      "name": "python3",
      "display_name": "Python 3"
    },
    "language_info": {
      "name": "python"
    }
  },
  "cells": [
    {
      "cell_type": "code",
      "execution_count": null,
      "metadata": {
        "id": "gS0gWmSfQf3Q",
        "colab": {
          "base_uri": "https://localhost:8080/"
        },
        "outputId": "c870440c-0de3-4777-c61b-5c62bf6deadc"
      },
      "outputs": [
        {
          "output_type": "stream",
          "name": "stdout",
          "text": [
            "{'No of chickens:': 9}\n"
          ]
        }
      ],
      "source": [
        "#task1\n",
        "def chickens(x):\n",
        "  d=dict()\n",
        "  if(x>10):\n",
        "    d[\"Number of chickens\"]=[\"Many\"]\n",
        "  else:\n",
        "    d[\"No of chickens:\"]=x\n",
        "  print(d)\n",
        "chickens(9)"
      ]
    },
    {
      "cell_type": "code",
      "source": [
        "#Task2\n",
        "def create_string(s):\n",
        "    if len(s) < 3:\n",
        "        return \"\"\n",
        "    else:\n",
        "        return s[:3] + s[-3:]\n",
        "print(create_string(\"intelligence\"))"
      ],
      "metadata": {
        "id": "Gd4ZoGY4QrxV",
        "colab": {
          "base_uri": "https://localhost:8080/"
        },
        "outputId": "10e01c02-0493-4486-bfb9-5158ed2faa7c"
      },
      "execution_count": null,
      "outputs": [
        {
          "output_type": "stream",
          "name": "stdout",
          "text": [
            "intnce\n"
          ]
        }
      ]
    },
    {
      "cell_type": "code",
      "source": [
        "#task3\n",
        "def replace_char(s):\n",
        "    if len(s) < 1:\n",
        "        return \"\"\n",
        "    else:\n",
        "        first_char = s[1]\n",
        "        return first_char + s[1:].replace(first_char, '@')\n",
        "print(replace_char(\"Ooogle\"))  # Output: O@@gle"
      ],
      "metadata": {
        "id": "RNgp7rsGQr0b",
        "colab": {
          "base_uri": "https://localhost:8080/"
        },
        "outputId": "1277be76-7a58-4a6a-8d98-11eb81dbaa8d"
      },
      "execution_count": null,
      "outputs": [
        {
          "output_type": "stream",
          "name": "stdout",
          "text": [
            "o@@gle\n"
          ]
        }
      ]
    },
    {
      "cell_type": "code",
      "source": [
        "#Task4\n",
        "string = \"mix\"\n",
        "string1= \"pod\"\n",
        "new_string = string1[0:2] + string[2:]+\" \"+string[0:2]+string1[2:]\n",
        "print(new_string)"
      ],
      "metadata": {
        "id": "SlYz35wbQr3Z",
        "colab": {
          "base_uri": "https://localhost:8080/"
        },
        "outputId": "37f37bee-4918-4a66-aafb-4de3781ef247"
      },
      "execution_count": null,
      "outputs": [
        {
          "output_type": "stream",
          "name": "stdout",
          "text": [
            "pox mid\n"
          ]
        }
      ]
    },
    {
      "cell_type": "code",
      "source": [
        "#task5\n",
        "def match_words(words):\n",
        "    ctr = 0\n",
        "    for word in words:\n",
        "        if len(word) >= 2 and word[0] == word[-1]:\n",
        "            ctr += 1\n",
        "    return ctr\n",
        "print(match_words(['abc', 'xyz', 'aba', '1221']))"
      ],
      "metadata": {
        "id": "8Qkn4Ni6Qr6k",
        "colab": {
          "base_uri": "https://localhost:8080/"
        },
        "outputId": "96b10460-c958-489c-b2fa-cd26e2dfbcc5"
      },
      "execution_count": null,
      "outputs": [
        {
          "output_type": "stream",
          "name": "stdout",
          "text": [
            "2\n"
          ]
        }
      ]
    },
    {
      "cell_type": "code",
      "source": [
        "#task6\n",
        "string=['mix','abcd','xyz','book']\n",
        "string.sort()\n",
        "\n",
        "print(string)"
      ],
      "metadata": {
        "id": "t-fc5zOhQr9h",
        "colab": {
          "base_uri": "https://localhost:8080/"
        },
        "outputId": "d3711c6e-3f26-428d-e377-46ac0ea5e91d"
      },
      "execution_count": null,
      "outputs": [
        {
          "output_type": "stream",
          "name": "stdout",
          "text": [
            "['abcd', 'book', 'mix', 'xyz']\n"
          ]
        }
      ]
    },
    {
      "cell_type": "code",
      "source": [
        "#task7\n",
        "def last(n):\n",
        "\treturn n[-1]\n",
        "\n",
        "def sort(tuples):\n",
        "\treturn sorted(tuples, key=last)\n",
        "\n",
        "a=[(1, 7), (1, 3), (3, 4, 5), (2, 2)]\n",
        "print(sort(a))"
      ],
      "metadata": {
        "id": "fAtgB1LTQsAY",
        "colab": {
          "base_uri": "https://localhost:8080/"
        },
        "outputId": "03e3549c-4fc3-4727-ae3c-183a7ba7a793"
      },
      "execution_count": null,
      "outputs": [
        {
          "output_type": "stream",
          "name": "stdout",
          "text": [
            "[(2, 2), (1, 3), (3, 4, 5), (1, 7)]\n"
          ]
        }
      ]
    },
    {
      "cell_type": "code",
      "source": [
        "#task8\n",
        "def pal(string):\n",
        "  string=input((\"Enter a string:\"))\n",
        "  if(string==string[::-1]):\n",
        "      print(\"palindrome\")\n",
        "  else:\n",
        "      print(\"Not palindrome\")\n",
        "pal(\" \")"
      ],
      "metadata": {
        "colab": {
          "base_uri": "https://localhost:8080/"
        },
        "id": "54XnqhDzLqZR",
        "outputId": "8178a865-8b5f-45b6-f964-83af09224211"
      },
      "execution_count": null,
      "outputs": [
        {
          "output_type": "stream",
          "name": "stdout",
          "text": [
            "Enter a string:racecar\n",
            "palindrome\n"
          ]
        }
      ]
    },
    {
      "cell_type": "code",
      "source": [
        "#task9\n",
        "from pandas.core.common import flatten\n",
        "a= [[1, 2, 3], [4, 5]]\n",
        "print(list(flatten(a)))"
      ],
      "metadata": {
        "id": "vhSMWzR8QsGC",
        "colab": {
          "base_uri": "https://localhost:8080/"
        },
        "outputId": "bef0de92-c38f-4dde-f773-c4d75df0ce46"
      },
      "execution_count": null,
      "outputs": [
        {
          "output_type": "stream",
          "name": "stdout",
          "text": [
            "[1, 2, 3, 4, 5]\n"
          ]
        }
      ]
    },
    {
      "cell_type": "code",
      "source": [
        "#task10\n",
        "def Intersection(lst1, lst2):\n",
        "    return set(lst1).intersection(lst2)\n",
        "\n",
        "lst1 = [4,5,6,9,0]\n",
        "lst2 = [6,0,2,4]\n",
        "print(Intersection(lst1, lst2))"
      ],
      "metadata": {
        "id": "FWXLfzgJQsI2",
        "colab": {
          "base_uri": "https://localhost:8080/"
        },
        "outputId": "d4d75299-015a-4bd4-cc5c-fdd3203bc583"
      },
      "execution_count": null,
      "outputs": [
        {
          "output_type": "stream",
          "name": "stdout",
          "text": [
            "{0, 4, 6}\n"
          ]
        }
      ]
    },
    {
      "cell_type": "code",
      "source": [
        "#task11\n",
        "def check(s1, s2):\n",
        "    if(sorted(s1)== sorted(s2)):\n",
        "        print(\"Anagrams.\")\n",
        "    else:\n",
        "        print(\"Not anagrams.\")\n",
        "\n",
        "s1 =\"listen\"\n",
        "s2 =\"silent\"\n",
        "check(s1, s2)"
      ],
      "metadata": {
        "id": "APlZiKpaQsLf",
        "colab": {
          "base_uri": "https://localhost:8080/"
        },
        "outputId": "63dd5bcb-be86-45f9-82ad-282b2f49515d"
      },
      "execution_count": null,
      "outputs": [
        {
          "output_type": "stream",
          "name": "stdout",
          "text": [
            "Anagrams.\n"
          ]
        }
      ]
    },
    {
      "cell_type": "code",
      "source": [
        "#task12\n",
        "def binary_search(nums, target):\n",
        "    low = 0\n",
        "    high = len(nums) - 1\n",
        "\n",
        "    while low <= high:\n",
        "        mid = low + (high - low) // 2\n",
        "\n",
        "        if nums[mid] == target:\n",
        "            return mid\n",
        "        elif nums[mid] < target:\n",
        "            low = mid + 1\n",
        "        else:\n",
        "            high = mid - 1\n",
        "\n",
        "    return -1\n",
        "nums = [1, 3, 5, 7, 9]\n",
        "binary_search(nums, 3)"
      ],
      "metadata": {
        "id": "B0gUVJTgQsPC",
        "colab": {
          "base_uri": "https://localhost:8080/"
        },
        "outputId": "223bfae9-9bd0-41bb-9e6f-a9d4bc65a72b"
      },
      "execution_count": null,
      "outputs": [
        {
          "output_type": "execute_result",
          "data": {
            "text/plain": [
              "1"
            ]
          },
          "metadata": {},
          "execution_count": 84
        }
      ]
    },
    {
      "cell_type": "code",
      "source": [
        "#task13\n",
        "def merge_sort(arr):\n",
        "    if len(arr) <= 1:\n",
        "        return arr\n",
        "\n",
        "    mid = len(arr) // 2\n",
        "    left = arr[:mid]\n",
        "    right = arr[mid:]\n",
        "\n",
        "    left = merge_sort(left)\n",
        "    right = merge_sort(right)\n",
        "\n",
        "    return merge(left, right)\n",
        "\n",
        "def merge(left, right):\n",
        "    result = []\n",
        "    i = j = 0\n",
        "\n",
        "    while i < len(left) and j < len(right):\n",
        "        if left[i] < right[j]:\n",
        "            result.append(left[i])\n",
        "            i += 1\n",
        "        else:\n",
        "            result.append(right[j])\n",
        "            j += 1\n",
        "\n",
        "    result.extend(left[i:])\n",
        "    result.extend(right[j:])\n",
        "\n",
        "    return result\n",
        "arr = [70, 50, 30, 10, 20, 40]\n",
        "sorted_arr = merge_sort(arr)\n",
        "print(sorted_arr)"
      ],
      "metadata": {
        "id": "Lm6CmcAAQ2xI",
        "colab": {
          "base_uri": "https://localhost:8080/"
        },
        "outputId": "15b67a0b-f810-45ac-d731-f9b3a073b83d"
      },
      "execution_count": null,
      "outputs": [
        {
          "output_type": "stream",
          "name": "stdout",
          "text": [
            "[10, 20, 30, 40, 50, 70]\n"
          ]
        }
      ]
    },
    {
      "cell_type": "code",
      "source": [
        "#task14\n",
        "def quick_sort(arr):\n",
        "\n",
        "  if len(arr) <= 1:\n",
        "    return arr\n",
        "\n",
        "  pivot = arr[len(arr) // 2]\n",
        "  left = [x for x in arr if x < pivot]\n",
        "  middle = [x for x in arr if x == pivot]\n",
        "  right = [x for x in arr if x > pivot]\n",
        "  return quick_sort(left) + middle + quick_sort(right)\n",
        "\n",
        "arr = [1, 7, 4, 1, 10, 9, -2]\n",
        "sorted_arr = quick_sort(arr)\n",
        "print(sorted_arr)"
      ],
      "metadata": {
        "id": "ge1DXyfBQ2-H",
        "colab": {
          "base_uri": "https://localhost:8080/"
        },
        "outputId": "5a80eee0-4c0f-40b7-aaf0-8f75d3f7ac20"
      },
      "execution_count": null,
      "outputs": [
        {
          "output_type": "stream",
          "name": "stdout",
          "text": [
            "[-2, 1, 1, 4, 7, 9, 10]\n"
          ]
        }
      ]
    },
    {
      "cell_type": "code",
      "source": [
        "#task15\n",
        "def frequency_count(arr):\n",
        "  freq_dict = {}\n",
        "  for num in arr:\n",
        "    if num in freq_dict:\n",
        "      freq_dict[num] += 1\n",
        "    else:\n",
        "      freq_dict[num] = 1\n",
        "  return freq_dict\n",
        "\n",
        "arr = [1, 2, 2, 3, 4, 2]\n",
        "freq_dict = frequency_count(arr)\n",
        "print(freq_dict)"
      ],
      "metadata": {
        "id": "IUn6rf5eQ3Jf",
        "colab": {
          "base_uri": "https://localhost:8080/"
        },
        "outputId": "7cf7291b-4ffe-4988-d885-c22c0b5f8c74"
      },
      "execution_count": null,
      "outputs": [
        {
          "output_type": "stream",
          "name": "stdout",
          "text": [
            "{1: 1, 2: 3, 3: 1, 4: 1}\n"
          ]
        }
      ]
    },
    {
      "cell_type": "code",
      "source": [
        "#task16\n",
        "def distinct_count(arr):\n",
        "  return len(set(arr))\n",
        "arr = [1, 2, 2, 3, 4, 2]\n",
        "distinct_count = distinct_count(arr)\n",
        "print(distinct_count)"
      ],
      "metadata": {
        "id": "eHtL19d6Q3R_",
        "colab": {
          "base_uri": "https://localhost:8080/"
        },
        "outputId": "a0ab5d3e-e8ff-4695-eb69-30fe3774b0da"
      },
      "execution_count": null,
      "outputs": [
        {
          "output_type": "stream",
          "name": "stdout",
          "text": [
            "4\n"
          ]
        }
      ]
    },
    {
      "cell_type": "code",
      "source": [
        "#task17\n",
        "def unionandintersection(set1, set2):\n",
        "  union = set1.union(set2)\n",
        "  intersection = set1.intersection(set2)\n",
        "  return (union, intersection)\n",
        "set1 = {1, 2, 3, 4}\n",
        "set2 = {4, 5, 6, 7}\n",
        "union, intersection = unionandintersection(set1, set2)\n",
        "print(\"Union:\", union)\n",
        "print(\"Intersection:\", intersection)"
      ],
      "metadata": {
        "id": "NEutgM_CQ3Zv",
        "colab": {
          "base_uri": "https://localhost:8080/"
        },
        "outputId": "9d308913-ebd9-44c2-ee66-f1707d39c741"
      },
      "execution_count": null,
      "outputs": [
        {
          "output_type": "stream",
          "name": "stdout",
          "text": [
            "Union: {1, 2, 3, 4, 5, 6, 7}\n",
            "Intersection: {4}\n"
          ]
        }
      ]
    },
    {
      "cell_type": "code",
      "source": [
        "#task18\n",
        "def diction(dictionary):\n",
        "  return list(set(dictionary.values()))\n",
        "\n",
        "dictionary = {'a': 1, 'b': 2, 'c': 2, 'd': 3, 'e': 3, 'f': 3}\n",
        "values = diction(dictionary)\n",
        "print(values)"
      ],
      "metadata": {
        "id": "wZlKi6v7Q3hE",
        "colab": {
          "base_uri": "https://localhost:8080/"
        },
        "outputId": "fb1743e1-5911-4432-d397-9027cd71c4ee"
      },
      "execution_count": null,
      "outputs": [
        {
          "output_type": "stream",
          "name": "stdout",
          "text": [
            "[1, 2, 3]\n"
          ]
        }
      ]
    },
    {
      "cell_type": "code",
      "source": [
        "#task19\n",
        "dA = { 'x' : 1, 'y' : 2, 'z' : 3 }\n",
        "dB = { 'u' : 1, 'v' : 2, 'w' : 3, 'x'  : 1, 'y': 2 }\n",
        "\n",
        "setA = set( dA )\n",
        "setB = set( dB )\n",
        "setOfCommonKeys = setA.intersection( setB )\n",
        "print(max(setOfCommonKeys))"
      ],
      "metadata": {
        "id": "DnQo3v8yQ3nh",
        "colab": {
          "base_uri": "https://localhost:8080/"
        },
        "outputId": "e4b92029-ca27-4f0b-8af2-067d257def6e"
      },
      "execution_count": null,
      "outputs": [
        {
          "output_type": "stream",
          "name": "stdout",
          "text": [
            "y\n"
          ]
        }
      ]
    },
    {
      "cell_type": "code",
      "source": [
        "#task20\n",
        "def Merge(dict1, dict2):\n",
        "\treturn(dict2.update(dict1))\n",
        "\n",
        "dict1 = {'a': 10, 'b': 8}\n",
        "dict2 = {'d': 6, 'c': 4}\n",
        "print(Merge(dict1, dict2))\n",
        "print(dict2)"
      ],
      "metadata": {
        "id": "DC8w9R4mQ3um",
        "colab": {
          "base_uri": "https://localhost:8080/"
        },
        "outputId": "227a8993-2baa-42f4-84fc-aaf6c67cf5e1"
      },
      "execution_count": null,
      "outputs": [
        {
          "output_type": "stream",
          "name": "stdout",
          "text": [
            "None\n",
            "{'d': 6, 'c': 4, 'a': 10, 'b': 8}\n"
          ]
        }
      ]
    },
    {
      "cell_type": "code",
      "source": [
        "#task21\n",
        "list_of_dictionaries = [\n",
        "    {'id': 1, 'name': 'taha'},\n",
        "    {'id': 2, 'name': 'tayyab'},\n",
        "    {'id': 3, 'name': 'ali'},\n",
        "]\n",
        "list_of_values = [1, 3]\n",
        "filtered_list_of_dicts = [\n",
        "    dictionary for dictionary in list_of_dictionaries\n",
        "    if dictionary['id'] in list_of_values\n",
        "]\n",
        "print(filtered_list_of_dicts)"
      ],
      "metadata": {
        "id": "kqzcZcQ6Q32p",
        "colab": {
          "base_uri": "https://localhost:8080/"
        },
        "outputId": "86c68368-a5f3-4b0d-8dd8-5d0295b0fb00"
      },
      "execution_count": null,
      "outputs": [
        {
          "output_type": "stream",
          "name": "stdout",
          "text": [
            "[{'id': 1, 'name': 'taha'}, {'id': 3, 'name': 'ali'}]\n"
          ]
        }
      ]
    },
    {
      "cell_type": "code",
      "source": [
        "#task22\n",
        "lis1 = [1, 2, 3, 4, 5, 1, 2, 5, 6, 7, 9, 9]\n",
        "x = []\n",
        "y = []\n",
        "for i in lis1:\n",
        "\tif i not in x:\n",
        "\t\tx.append(i)\n",
        "for i in x:\n",
        "\tif lis1.count(i) > 1:\n",
        "\t\ty.append(i)\n",
        "print(y)"
      ],
      "metadata": {
        "id": "196yzmRZQ3-W",
        "colab": {
          "base_uri": "https://localhost:8080/"
        },
        "outputId": "4897023e-fb35-4c4f-f0f9-61d4fede2955"
      },
      "execution_count": null,
      "outputs": [
        {
          "output_type": "stream",
          "name": "stdout",
          "text": [
            "[1, 2, 5, 9]\n"
          ]
        }
      ]
    }
  ]
}